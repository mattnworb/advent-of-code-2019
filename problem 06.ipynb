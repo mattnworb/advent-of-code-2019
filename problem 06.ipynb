{
 "cells": [
  {
   "cell_type": "markdown",
   "metadata": {},
   "source": [
    "For example, suppose you have the following map:\n",
    "\n",
    "```\n",
    "COM)B\n",
    "B)C\n",
    "C)D\n",
    "D)E\n",
    "E)F\n",
    "B)G\n",
    "G)H\n",
    "D)I\n",
    "E)J\n",
    "J)K\n",
    "K)L\n",
    "```\n",
    "Visually, the above map of orbits looks like this:\n",
    "\n",
    "```\n",
    "        G - H       J - K - L\n",
    "       /           /\n",
    "COM - B - C - D - E - F\n",
    "               \\\n",
    "                I\n",
    "```\n",
    "\n",
    "...\n",
    "\n",
    "\n",
    "The total number of direct and indirect orbits in this example is `42`."
   ]
  },
  {
   "cell_type": "markdown",
   "metadata": {},
   "source": [
    "- B orbits COM: 1\n",
    "- G orbits B: 1 + 1 = 2\n",
    "- H orbits G: 1 + 2 = 3\n",
    "- C orbits B: 1 + 1 = 2\n",
    "- D orbits C: 1 + 2 = 3\n",
    "- I orbits D: 1 + 3 = 4\n",
    "- E orbits I: 1 + 3 = 4\n",
    "- F orbits E: 1 + 4 = 5\n",
    "- J orbits E: 1 + 4 = 5\n",
    "- K orbits J: 1 + 5 = 6 \n",
    "- L orbits K: 1 + 6 = 7"
   ]
  },
  {
   "cell_type": "code",
   "execution_count": 1,
   "metadata": {},
   "outputs": [
    {
     "data": {
      "text/plain": [
       "42"
      ]
     },
     "execution_count": 1,
     "metadata": {},
     "output_type": "execute_result"
    }
   ],
   "source": [
    "1 + 2 + 3 + 2 + 3 + 4 + 4 + 5 + 5 + 6 + 7"
   ]
  },
  {
   "cell_type": "code",
   "execution_count": 22,
   "metadata": {},
   "outputs": [
    {
     "data": {
      "text/plain": [
       "{'B': 'COM',\n",
       " 'C': 'B',\n",
       " 'D': 'C',\n",
       " 'E': 'D',\n",
       " 'F': 'E',\n",
       " 'G': 'B',\n",
       " 'H': 'G',\n",
       " 'I': 'D',\n",
       " 'J': 'E',\n",
       " 'K': 'J',\n",
       " 'L': 'K'}"
      ]
     },
     "execution_count": 22,
     "metadata": {},
     "output_type": "execute_result"
    }
   ],
   "source": [
    "def parse_map(lines):\n",
    "    object_parents = {}\n",
    "    \n",
    "    if isinstance(lines, str):\n",
    "        lines = lines.split(\"\\n\")\n",
    "\n",
    "    for line in lines:\n",
    "        line = line.strip()\n",
    "        if len(line) == 0: continue\n",
    "            \n",
    "        # \"left)right\" = left is parent of right\n",
    "        left, right = line.split(\")\")\n",
    "        assert right not in object_parents\n",
    "        object_parents[right] = left\n",
    "    \n",
    "    return object_parents\n",
    "\n",
    "m = \"\"\"COM)B\n",
    "B)C\n",
    "C)D\n",
    "D)E\n",
    "E)F\n",
    "B)G\n",
    "G)H\n",
    "D)I\n",
    "E)J\n",
    "J)K\n",
    "K)L\"\"\"\n",
    "\n",
    "parse_map(m)"
   ]
  },
  {
   "cell_type": "code",
   "execution_count": 23,
   "metadata": {},
   "outputs": [],
   "source": [
    "def checksum(orbit_map):\n",
    "    memoized_results = {}\n",
    "\n",
    "    def orbit_count(obj):\n",
    "        parent = orbit_map[obj]\n",
    "        if parent == 'COM':\n",
    "            return 1\n",
    "        if parent in memoized_results:\n",
    "            memoized_results[obj] = 1 + memoized_results[parent]\n",
    "        else:\n",
    "            memoized_results[obj] = 1 + orbit_count(orbit_map[obj])\n",
    "        return memoized_results[obj]\n",
    "    \n",
    "    counts = [orbit_count(obj) for obj in orbit_map.keys()]\n",
    "    return sum(counts)"
   ]
  },
  {
   "cell_type": "code",
   "execution_count": 24,
   "metadata": {},
   "outputs": [],
   "source": [
    "assert 42 == checksum(parse_map(m))"
   ]
  },
  {
   "cell_type": "code",
   "execution_count": 27,
   "metadata": {},
   "outputs": [
    {
     "data": {
      "text/plain": [
       "147223"
      ]
     },
     "execution_count": 27,
     "metadata": {},
     "output_type": "execute_result"
    }
   ],
   "source": [
    "with open('inputs/day6a.txt') as f:\n",
    "    part1_input = f.readlines()\n",
    "    \n",
    "m = parse_map(part1_input)\n",
    "\n",
    "assert 'LH2' in m\n",
    "\n",
    "checksum(m)"
   ]
  },
  {
   "cell_type": "code",
   "execution_count": null,
   "metadata": {},
   "outputs": [],
   "source": []
  }
 ],
 "metadata": {
  "kernelspec": {
   "display_name": "Python 3",
   "language": "python",
   "name": "python3"
  },
  "language_info": {
   "codemirror_mode": {
    "name": "ipython",
    "version": 3
   },
   "file_extension": ".py",
   "mimetype": "text/x-python",
   "name": "python",
   "nbconvert_exporter": "python",
   "pygments_lexer": "ipython3",
   "version": "3.8.0"
  }
 },
 "nbformat": 4,
 "nbformat_minor": 2
}
