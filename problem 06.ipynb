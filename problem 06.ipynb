{
 "cells": [
  {
   "cell_type": "markdown",
   "metadata": {},
   "source": [
    "For example, suppose you have the following map:\n",
    "\n",
    "```\n",
    "COM)B\n",
    "B)C\n",
    "C)D\n",
    "D)E\n",
    "E)F\n",
    "B)G\n",
    "G)H\n",
    "D)I\n",
    "E)J\n",
    "J)K\n",
    "K)L\n",
    "```\n",
    "Visually, the above map of orbits looks like this:\n",
    "\n",
    "```\n",
    "        G - H       J - K - L\n",
    "       /           /\n",
    "COM - B - C - D - E - F\n",
    "               \\\n",
    "                I\n",
    "```\n",
    "\n",
    "...\n",
    "\n",
    "\n",
    "The total number of direct and indirect orbits in this example is `42`."
   ]
  },
  {
   "cell_type": "markdown",
   "metadata": {},
   "source": [
    "- B orbits COM: 1\n",
    "- G orbits B: 1 + 1 = 2\n",
    "- H orbits G: 1 + 2 = 3\n",
    "- C orbits B: 1 + 1 = 2\n",
    "- D orbits C: 1 + 2 = 3\n",
    "- I orbits D: 1 + 3 = 4\n",
    "- E orbits I: 1 + 3 = 4\n",
    "- F orbits E: 1 + 4 = 5\n",
    "- J orbits E: 1 + 4 = 5\n",
    "- K orbits J: 1 + 5 = 6 \n",
    "- L orbits K: 1 + 6 = 7"
   ]
  },
  {
   "cell_type": "code",
   "execution_count": 1,
   "metadata": {},
   "outputs": [
    {
     "data": {
      "text/plain": [
       "42"
      ]
     },
     "execution_count": 1,
     "metadata": {},
     "output_type": "execute_result"
    }
   ],
   "source": [
    "1 + 2 + 3 + 2 + 3 + 4 + 4 + 5 + 5 + 6 + 7"
   ]
  },
  {
   "cell_type": "code",
   "execution_count": 22,
   "metadata": {},
   "outputs": [
    {
     "data": {
      "text/plain": [
       "{'B': 'COM',\n",
       " 'C': 'B',\n",
       " 'D': 'C',\n",
       " 'E': 'D',\n",
       " 'F': 'E',\n",
       " 'G': 'B',\n",
       " 'H': 'G',\n",
       " 'I': 'D',\n",
       " 'J': 'E',\n",
       " 'K': 'J',\n",
       " 'L': 'K'}"
      ]
     },
     "execution_count": 22,
     "metadata": {},
     "output_type": "execute_result"
    }
   ],
   "source": [
    "def parse_map(lines):\n",
    "    object_parents = {}\n",
    "    \n",
    "    if isinstance(lines, str):\n",
    "        lines = lines.split(\"\\n\")\n",
    "\n",
    "    for line in lines:\n",
    "        line = line.strip()\n",
    "        if len(line) == 0: continue\n",
    "            \n",
    "        # \"left)right\" = left is parent of right\n",
    "        left, right = line.split(\")\")\n",
    "        assert right not in object_parents\n",
    "        object_parents[right] = left\n",
    "    \n",
    "    return object_parents\n",
    "\n",
    "m = \"\"\"COM)B\n",
    "B)C\n",
    "C)D\n",
    "D)E\n",
    "E)F\n",
    "B)G\n",
    "G)H\n",
    "D)I\n",
    "E)J\n",
    "J)K\n",
    "K)L\"\"\"\n",
    "\n",
    "parse_map(m)"
   ]
  },
  {
   "cell_type": "code",
   "execution_count": 23,
   "metadata": {},
   "outputs": [],
   "source": [
    "def checksum(orbit_map):\n",
    "    memoized_results = {}\n",
    "\n",
    "    def orbit_count(obj):\n",
    "        parent = orbit_map[obj]\n",
    "        if parent == 'COM':\n",
    "            return 1\n",
    "        if parent in memoized_results:\n",
    "            memoized_results[obj] = 1 + memoized_results[parent]\n",
    "        else:\n",
    "            memoized_results[obj] = 1 + orbit_count(orbit_map[obj])\n",
    "        return memoized_results[obj]\n",
    "    \n",
    "    counts = [orbit_count(obj) for obj in orbit_map.keys()]\n",
    "    return sum(counts)"
   ]
  },
  {
   "cell_type": "code",
   "execution_count": 24,
   "metadata": {},
   "outputs": [],
   "source": [
    "assert 42 == checksum(parse_map(m))"
   ]
  },
  {
   "cell_type": "code",
   "execution_count": 49,
   "metadata": {},
   "outputs": [
    {
     "data": {
      "text/plain": [
       "147223"
      ]
     },
     "execution_count": 49,
     "metadata": {},
     "output_type": "execute_result"
    }
   ],
   "source": [
    "with open('inputs/day6a.txt') as f:\n",
    "    part1_input = f.readlines()\n",
    "    \n",
    "my_input = parse_map(part1_input)\n",
    "\n",
    "assert 'LH2' in my_input\n",
    "\n",
    "checksum(my_input)"
   ]
  },
  {
   "cell_type": "markdown",
   "metadata": {},
   "source": [
    "# part 2"
   ]
  },
  {
   "cell_type": "markdown",
   "metadata": {},
   "source": [
    "What is the minimum number of orbital transfers required to move from the object YOU are orbiting to the object SAN is orbiting? (Between the objects they are orbiting - not between YOU and SAN.)"
   ]
  },
  {
   "cell_type": "code",
   "execution_count": 28,
   "metadata": {},
   "outputs": [
    {
     "data": {
      "text/plain": [
       "('PFG', '9FD')"
      ]
     },
     "execution_count": 28,
     "metadata": {},
     "output_type": "execute_result"
    }
   ],
   "source": [
    "m['YOU'], m['SAN']"
   ]
  },
  {
   "cell_type": "markdown",
   "metadata": {},
   "source": [
    "Ideas: \n",
    "\n",
    "- find first common ancestor between the two nodes\n",
    "  - find path from node to root (COM)\n",
    "  - union the paths, take deepest node\n",
    "- count number of steps between YOU and ancestor, and same for SAN and ancestor"
   ]
  },
  {
   "cell_type": "code",
   "execution_count": 29,
   "metadata": {},
   "outputs": [],
   "source": [
    "example = parse_map(\"\"\"COM)B\n",
    "B)C\n",
    "C)D\n",
    "D)E\n",
    "E)F\n",
    "B)G\n",
    "G)H\n",
    "D)I\n",
    "E)J\n",
    "J)K\n",
    "K)L\n",
    "K)YOU\n",
    "I)SAN\"\"\")"
   ]
  },
  {
   "cell_type": "code",
   "execution_count": 30,
   "metadata": {},
   "outputs": [
    {
     "data": {
      "text/plain": [
       "{'B': 'COM',\n",
       " 'C': 'B',\n",
       " 'D': 'C',\n",
       " 'E': 'D',\n",
       " 'F': 'E',\n",
       " 'G': 'B',\n",
       " 'H': 'G',\n",
       " 'I': 'D',\n",
       " 'J': 'E',\n",
       " 'K': 'J',\n",
       " 'L': 'K',\n",
       " 'YOU': 'K',\n",
       " 'SAN': 'I'}"
      ]
     },
     "execution_count": 30,
     "metadata": {},
     "output_type": "execute_result"
    }
   ],
   "source": [
    "example"
   ]
  },
  {
   "cell_type": "code",
   "execution_count": 36,
   "metadata": {},
   "outputs": [
    {
     "name": "stdout",
     "output_type": "stream",
     "text": [
      "['COM', 'B', 'C', 'D', 'E', 'J', 'K', 'YOU']\n"
     ]
    }
   ],
   "source": [
    "def path_to_root(m, node):\n",
    "    nodes = []\n",
    "    while node != 'COM':\n",
    "        nodes.append(node)\n",
    "        node = m[node]\n",
    "    nodes.append(node)\n",
    "    return nodes[::-1]\n",
    "        \n",
    "print(path_to_root(example, 'YOU'))"
   ]
  },
  {
   "cell_type": "code",
   "execution_count": 40,
   "metadata": {},
   "outputs": [],
   "source": [
    "def union_paths(p1, p2):\n",
    "    u = []\n",
    "    for n in range(min(len(p1), len(p2))):\n",
    "        if p1[n] == p2[n]:\n",
    "            u.append(p1[n])\n",
    "        else:\n",
    "            break\n",
    "    return u\n",
    "\n",
    "assert ['A', 'B', 'C'] == union_paths(['A', 'B', 'C', 'D'], ['A', 'B', 'C', 'E'])\n",
    "assert ['A', 'B', 'C'] == union_paths(['A', 'B', 'C'], ['A', 'B', 'C', 'E'])\n",
    "\n",
    "\n",
    "def find_first_common_ancestor(m, node1, node2):\n",
    "    path1 = path_to_root(m, node1)\n",
    "    path2 = path_to_root(m, node2)\n",
    "    u = union_paths(path1, path2)\n",
    "    return u[-1]\n",
    "\n",
    "assert 'D' == find_first_common_ancestor(example, 'YOU', 'SAN')"
   ]
  },
  {
   "cell_type": "code",
   "execution_count": 46,
   "metadata": {},
   "outputs": [],
   "source": [
    "def count_steps(m, node1, node2):\n",
    "    \"\"\"Return the number of steps from node2 to node1 in the tree m\"\"\"\n",
    "    count = 0\n",
    "    n = node2\n",
    "    while n != node1:\n",
    "        count += 1\n",
    "        n = m[n]\n",
    "    return count\n",
    "\n",
    "def expect_steps(expected, m, node1, node2):\n",
    "    actual = count_steps(m, node1, node2)\n",
    "    assert expected == actual, f'Expected {expected} steps but got {actual}'\n",
    "    \n",
    "expect_steps(4, example, 'D', 'YOU')"
   ]
  },
  {
   "cell_type": "code",
   "execution_count": 48,
   "metadata": {},
   "outputs": [],
   "source": [
    "def minimum_orbital_transfers(m, node1, node2):\n",
    "    transfer_point = find_first_common_ancestor(m, node1, node2)\n",
    "    # subtract two because the problem states:\n",
    "    # \"What is the minimum number of orbital transfers required to move from the \n",
    "    #  object YOU are orbiting to the object SAN is orbiting? (Between the objects\n",
    "    #  they are orbiting - not between YOU and SAN.)\"\n",
    "    return count_steps(m, transfer_point, node1) + count_steps(m, transfer_point, node2) - 2\n",
    "\n",
    "assert 4 == minimum_orbital_transfers(example, 'YOU', 'SAN')\n",
    "assert 4 == minimum_orbital_transfers(example, 'SAN', 'YOU')"
   ]
  },
  {
   "cell_type": "code",
   "execution_count": 50,
   "metadata": {},
   "outputs": [
    {
     "data": {
      "text/plain": [
       "340"
      ]
     },
     "execution_count": 50,
     "metadata": {},
     "output_type": "execute_result"
    }
   ],
   "source": [
    "minimum_orbital_transfers(my_input, 'YOU', 'SAN')"
   ]
  },
  {
   "cell_type": "code",
   "execution_count": null,
   "metadata": {},
   "outputs": [],
   "source": []
  }
 ],
 "metadata": {
  "kernelspec": {
   "display_name": "Python 3",
   "language": "python",
   "name": "python3"
  },
  "language_info": {
   "codemirror_mode": {
    "name": "ipython",
    "version": 3
   },
   "file_extension": ".py",
   "mimetype": "text/x-python",
   "name": "python",
   "nbconvert_exporter": "python",
   "pygments_lexer": "ipython3",
   "version": "3.8.0"
  }
 },
 "nbformat": 4,
 "nbformat_minor": 2
}
