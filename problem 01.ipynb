{
 "cells": [
  {
   "cell_type": "code",
   "execution_count": 1,
   "metadata": {},
   "outputs": [],
   "source": [
    "data = \"\"\"60052\n",
    "61005\n",
    "114258\n",
    "66223\n",
    "114571\n",
    "80949\n",
    "129508\n",
    "94463\n",
    "134331\n",
    "102634\n",
    "148109\n",
    "109532\n",
    "60479\n",
    "68048\n",
    "71553\n",
    "68053\n",
    "51105\n",
    "149024\n",
    "138472\n",
    "57246\n",
    "85686\n",
    "121267\n",
    "144206\n",
    "104420\n",
    "149858\n",
    "137795\n",
    "121637\n",
    "68877\n",
    "51560\n",
    "74506\n",
    "83362\n",
    "53806\n",
    "132871\n",
    "100629\n",
    "76102\n",
    "103594\n",
    "68425\n",
    "54734\n",
    "124930\n",
    "120598\n",
    "136375\n",
    "146892\n",
    "90876\n",
    "131455\n",
    "124377\n",
    "125244\n",
    "144563\n",
    "107469\n",
    "86940\n",
    "132916\n",
    "79789\n",
    "136359\n",
    "105127\n",
    "82810\n",
    "83751\n",
    "107741\n",
    "51677\n",
    "113598\n",
    "119741\n",
    "105174\n",
    "128151\n",
    "82407\n",
    "108461\n",
    "50594\n",
    "92897\n",
    "146520\n",
    "56176\n",
    "68640\n",
    "124300\n",
    "88250\n",
    "132105\n",
    "89023\n",
    "80532\n",
    "120433\n",
    "50015\n",
    "84028\n",
    "100491\n",
    "53131\n",
    "135920\n",
    "108820\n",
    "98932\n",
    "109750\n",
    "136854\n",
    "126902\n",
    "108231\n",
    "109391\n",
    "136727\n",
    "128359\n",
    "108575\n",
    "114594\n",
    "131466\n",
    "89977\n",
    "124467\n",
    "114318\n",
    "84544\n",
    "53584\n",
    "87786\n",
    "131991\n",
    "138445\n",
    "70673\"\"\""
   ]
  },
  {
   "cell_type": "code",
   "execution_count": 2,
   "metadata": {},
   "outputs": [],
   "source": [
    "module_masses = [int(line) for line in data.split(\"\\n\")]"
   ]
  },
  {
   "cell_type": "code",
   "execution_count": 3,
   "metadata": {},
   "outputs": [
    {
     "data": {
      "text/plain": [
       "100"
      ]
     },
     "execution_count": 3,
     "metadata": {},
     "output_type": "execute_result"
    }
   ],
   "source": [
    "len(module_masses)"
   ]
  },
  {
   "cell_type": "code",
   "execution_count": 4,
   "metadata": {},
   "outputs": [
    {
     "data": {
      "text/plain": [
       "60052"
      ]
     },
     "execution_count": 4,
     "metadata": {},
     "output_type": "execute_result"
    }
   ],
   "source": [
    "module_masses[0]"
   ]
  },
  {
   "cell_type": "markdown",
   "metadata": {},
   "source": [
    "> Fuel required to launch a given module is based on its mass. Specifically, to find the fuel required for a module, take its mass, divide by three, round down, and subtract 2."
   ]
  },
  {
   "cell_type": "code",
   "execution_count": 5,
   "metadata": {},
   "outputs": [],
   "source": [
    "from math import floor\n",
    "\n",
    "def fuel_required(mass):\n",
    "    return floor(mass / 3) -2"
   ]
  },
  {
   "cell_type": "code",
   "execution_count": 6,
   "metadata": {},
   "outputs": [],
   "source": [
    "assert 33583 == fuel_required(100756)"
   ]
  },
  {
   "cell_type": "markdown",
   "metadata": {},
   "source": [
    "> The Fuel Counter-Upper needs to know the total fuel requirement. To find it, individually calculate the fuel needed for the mass of each module (your puzzle input), then add together all the fuel values.\n",
    "\n",
    "> What is the sum of the fuel requirements for all of the modules on your spacecraft?"
   ]
  },
  {
   "cell_type": "code",
   "execution_count": 7,
   "metadata": {},
   "outputs": [
    {
     "data": {
      "text/plain": [
       "3392373"
      ]
     },
     "execution_count": 7,
     "metadata": {},
     "output_type": "execute_result"
    }
   ],
   "source": [
    "sum([fuel_required(mass) for mass in module_masses])"
   ]
  },
  {
   "cell_type": "markdown",
   "metadata": {},
   "source": [
    "---\n",
    "--- Part Two ---\n",
    "During the second Go / No Go poll, the Elf in charge of the Rocket Equation Double-Checker stops the launch sequence. Apparently, you forgot to include additional fuel for the fuel you just added.\n",
    "\n",
    "Fuel itself requires fuel just like a module - take its mass, divide by three, round down, and subtract 2. However, that fuel also requires fuel, and that fuel requires fuel, and so on. Any mass that would require negative fuel should instead be treated as if it requires zero fuel; the remaining mass, if any, is instead handled by wishing really hard, which has no mass and is outside the scope of this calculation.\n",
    "\n",
    "So, for each module mass, calculate its fuel and add it to the total. Then, treat the fuel amount you just calculated as the input mass and repeat the process, continuing until a fuel requirement is zero or negative. For example:"
   ]
  },
  {
   "cell_type": "code",
   "execution_count": 16,
   "metadata": {},
   "outputs": [],
   "source": [
    "def chained_fuel_required(mass):\n",
    "    fuel = fuel_required(mass)\n",
    "    if fuel > 0:\n",
    "        #print(f'fuel={fuel}, recursing')\n",
    "        return fuel + chained_fuel_required(fuel)\n",
    "    else:\n",
    "        return 0"
   ]
  },
  {
   "cell_type": "code",
   "execution_count": 17,
   "metadata": {},
   "outputs": [
    {
     "name": "stdout",
     "output_type": "stream",
     "text": [
      "2\n",
      "2\n"
     ]
    }
   ],
   "source": [
    "print(fuel_required(14))\n",
    "print(chained_fuel_required(14))\n",
    "assert 2 == chained_fuel_required(14)"
   ]
  },
  {
   "cell_type": "code",
   "execution_count": 18,
   "metadata": {},
   "outputs": [],
   "source": [
    "assert 966 == chained_fuel_required(1969)"
   ]
  },
  {
   "cell_type": "markdown",
   "metadata": {},
   "source": [
    "> What is the sum of the fuel requirements for all of the modules on your spacecraft when also taking into account the mass of the added fuel? (Calculate the fuel requirements for each module separately, then add them all up at the end.)"
   ]
  },
  {
   "cell_type": "code",
   "execution_count": 19,
   "metadata": {},
   "outputs": [
    {
     "data": {
      "text/plain": [
       "5085699"
      ]
     },
     "execution_count": 19,
     "metadata": {},
     "output_type": "execute_result"
    }
   ],
   "source": [
    "sum([chained_fuel_required(mass) for mass in module_masses])"
   ]
  },
  {
   "cell_type": "code",
   "execution_count": null,
   "metadata": {},
   "outputs": [],
   "source": []
  }
 ],
 "metadata": {
  "kernelspec": {
   "display_name": "Python 3",
   "language": "python",
   "name": "python3"
  },
  "language_info": {
   "codemirror_mode": {
    "name": "ipython",
    "version": 3
   },
   "file_extension": ".py",
   "mimetype": "text/x-python",
   "name": "python",
   "nbconvert_exporter": "python",
   "pygments_lexer": "ipython3",
   "version": "3.8.0"
  }
 },
 "nbformat": 4,
 "nbformat_minor": 2
}
