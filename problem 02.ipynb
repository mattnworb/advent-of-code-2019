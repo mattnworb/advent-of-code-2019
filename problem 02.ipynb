{
 "cells": [
  {
   "cell_type": "markdown",
   "metadata": {},
   "source": [
    "An Intcode program is a list of integers separated by commas (like 1,0,0,3,99). To run one, start by looking at the first integer (called position 0). Here, you will find an opcode - either 1, 2, or 99. The opcode indicates what to do; for example, 99 means that the program is finished and should immediately halt. Encountering an unknown opcode means something went wrong.\n",
    "\n",
    "Opcode 1 adds together numbers read from two positions and stores the result in a third position. The three integers immediately after the opcode tell you these three positions - the first two indicate the positions from which you should read the input values, and the third indicates the position at which the output should be stored.\n",
    "\n",
    "For example, if your Intcode computer encounters 1,10,20,30, it should read the values at positions 10 and 20, add those values, and then overwrite the value at position 30 with their sum.\n",
    "\n",
    "Opcode 2 works exactly like opcode 1, except it multiplies the two inputs instead of adding them. Again, the three integers after the opcode indicate where the inputs and outputs are, not their values.\n",
    "\n",
    "Once you're done processing an opcode, move to the next one by stepping forward 4 positions."
   ]
  },
  {
   "cell_type": "code",
   "execution_count": 33,
   "metadata": {},
   "outputs": [],
   "source": [
    "def process_step(opcodes, pos, operation, op_string, verbose):\n",
    "    a, b = opcodes[pos + 1], opcodes[pos + 2]\n",
    "    out = opcodes[pos + 3]\n",
    "\n",
    "    if verbose:\n",
    "        print(f'{op_string} position {a} ({opcodes[a]}) and {b} ({opcodes[b]}) and storing in position {out}')\n",
    "        \n",
    "    opcodes[out]= operation(opcodes[a], opcodes[b])\n",
    "    return pos + 4\n",
    "    \n",
    "def process_program(opcodes, verbose=True):\n",
    "    value = 0\n",
    "    pos = 0\n",
    "    \n",
    "    if verbose:\n",
    "        print(f'starting program: {opcodes}')\n",
    "        \n",
    "    while pos < len(opcodes):\n",
    "        op = opcodes[pos]\n",
    "        if op == 1:\n",
    "            pos = process_step(opcodes, pos, lambda a,b: a+b, '+', verbose)\n",
    "            \n",
    "        elif op == 2:\n",
    "            pos = process_step(opcodes, pos, lambda a,b:a*b, '*', verbose)\n",
    "            \n",
    "        elif op == 99:\n",
    "            if verbose:\n",
    "                print('halt, returning', opcodes)\n",
    "            return opcodes\n",
    "        \n",
    "        else:\n",
    "            raise ValueError('unknown opcode')"
   ]
  },
  {
   "cell_type": "code",
   "execution_count": 34,
   "metadata": {},
   "outputs": [
    {
     "name": "stdout",
     "output_type": "stream",
     "text": [
      "starting program: [1, 0, 0, 0, 99]\n",
      "+ position 0 (1) and 0 (1) and storing in position 0\n",
      "halt, returning [2, 0, 0, 0, 99]\n",
      "starting program: [2, 3, 0, 3, 99]\n",
      "* position 3 (3) and 0 (2) and storing in position 3\n",
      "halt, returning [2, 3, 0, 6, 99]\n",
      "starting program: [2, 4, 4, 5, 99, 0]\n",
      "* position 4 (99) and 4 (99) and storing in position 5\n",
      "halt, returning [2, 4, 4, 5, 99, 9801]\n",
      "starting program: [1, 1, 1, 4, 99, 5, 6, 0, 99]\n",
      "+ position 1 (1) and 1 (1) and storing in position 4\n",
      "* position 5 (5) and 6 (6) and storing in position 0\n",
      "halt, returning [30, 1, 1, 4, 2, 5, 6, 0, 99]\n"
     ]
    }
   ],
   "source": [
    "# 1,0,0,0,99 becomes 2,0,0,0,99 (1 + 1 = 2).\n",
    "assert process_program([1, 0, 0, 0, 99]) == [2, 0, 0, 0, 99]\n",
    "\n",
    "# 2,3,0,3,99 becomes 2,3,0,6,99 (3 * 2 = 6).\n",
    "assert process_program([2,3,0,3,99]) == [2,3,0,6,99]\n",
    "\n",
    "# 2,4,4,5,99,0 becomes 2,4,4,5,99,9801 (99 * 99 = 9801).\n",
    "assert process_program([2,4,4,5,99,0]) == [2,4,4,5,99,9801]\n",
    "\n",
    "# 1,1,1,4,99,5,6,0,99 becomes 30,1,1,4,2,5,6,0,99.\n",
    "assert process_program([1,1,1,4,99,5,6,0,99]) == [30,1,1,4,2,5,6,0,99]"
   ]
  },
  {
   "cell_type": "code",
   "execution_count": 35,
   "metadata": {},
   "outputs": [],
   "source": [
    "my_input = [1,0,0,3,1,1,2,3,1,3,4,3,1,5,0,3,2,13,1,19,1,19,10,23,1,23,6,27,1,6,27,31,1,13,31,35,1,13,35,39,1,39,13,43,2,43,9,47,2,6,47,51,1,51,9,55,1,55,9,59,1,59,6,63,1,9,63,67,2,67,10,71,2,71,13,75,1,10,75,79,2,10,79,83,1,83,6,87,2,87,10,91,1,91,6,95,1,95,13,99,1,99,13,103,2,103,9,107,2,107,10,111,1,5,111,115,2,115,9,119,1,5,119,123,1,123,9,127,1,127,2,131,1,5,131,0,99,2,0,14,0]"
   ]
  },
  {
   "cell_type": "markdown",
   "metadata": {},
   "source": [
    "Once you have a working computer, the first step is to restore the gravity assist program (your puzzle input) to the \"1202 program alarm\" state it had just before the last computer caught fire. To do this, before running the program, replace position 1 with the value 12 and replace position 2 with the value 2. What value is left at position 0 after the program halts?"
   ]
  },
  {
   "cell_type": "code",
   "execution_count": 36,
   "metadata": {},
   "outputs": [
    {
     "name": "stdout",
     "output_type": "stream",
     "text": [
      "starting program: [1, 12, 2, 3, 1, 1, 2, 3, 1, 3, 4, 3, 1, 5, 0, 3, 2, 13, 1, 19, 1, 19, 10, 23, 1, 23, 6, 27, 1, 6, 27, 31, 1, 13, 31, 35, 1, 13, 35, 39, 1, 39, 13, 43, 2, 43, 9, 47, 2, 6, 47, 51, 1, 51, 9, 55, 1, 55, 9, 59, 1, 59, 6, 63, 1, 9, 63, 67, 2, 67, 10, 71, 2, 71, 13, 75, 1, 10, 75, 79, 2, 10, 79, 83, 1, 83, 6, 87, 2, 87, 10, 91, 1, 91, 6, 95, 1, 95, 13, 99, 1, 99, 13, 103, 2, 103, 9, 107, 2, 107, 10, 111, 1, 5, 111, 115, 2, 115, 9, 119, 1, 5, 119, 123, 1, 123, 9, 127, 1, 127, 2, 131, 1, 5, 131, 0, 99, 2, 0, 14, 0]\n",
      "+ position 12 (1) and 2 (2) and storing in position 3\n",
      "+ position 1 (12) and 2 (2) and storing in position 3\n",
      "+ position 3 (14) and 4 (1) and storing in position 3\n",
      "+ position 5 (1) and 0 (1) and storing in position 3\n",
      "* position 13 (5) and 1 (12) and storing in position 19\n",
      "+ position 19 (60) and 10 (4) and storing in position 23\n",
      "+ position 23 (64) and 6 (2) and storing in position 27\n",
      "+ position 6 (2) and 27 (66) and storing in position 31\n",
      "+ position 13 (5) and 31 (68) and storing in position 35\n",
      "+ position 13 (5) and 35 (73) and storing in position 39\n",
      "+ position 39 (78) and 13 (5) and storing in position 43\n",
      "* position 43 (83) and 9 (3) and storing in position 47\n",
      "* position 6 (2) and 47 (249) and storing in position 51\n",
      "+ position 51 (498) and 9 (3) and storing in position 55\n",
      "+ position 55 (501) and 9 (3) and storing in position 59\n",
      "+ position 59 (504) and 6 (2) and storing in position 63\n",
      "+ position 9 (3) and 63 (506) and storing in position 67\n",
      "* position 67 (509) and 10 (4) and storing in position 71\n",
      "* position 71 (2036) and 13 (5) and storing in position 75\n",
      "+ position 10 (4) and 75 (10180) and storing in position 79\n",
      "* position 10 (4) and 79 (10184) and storing in position 83\n",
      "+ position 83 (40736) and 6 (2) and storing in position 87\n",
      "* position 87 (40738) and 10 (4) and storing in position 91\n",
      "+ position 91 (162952) and 6 (2) and storing in position 95\n",
      "+ position 95 (162954) and 13 (5) and storing in position 99\n",
      "+ position 99 (162959) and 13 (5) and storing in position 103\n",
      "* position 103 (162964) and 9 (3) and storing in position 107\n",
      "* position 107 (488892) and 10 (4) and storing in position 111\n",
      "+ position 5 (1) and 111 (1955568) and storing in position 115\n",
      "* position 115 (1955569) and 9 (3) and storing in position 119\n",
      "+ position 5 (1) and 119 (5866707) and storing in position 123\n",
      "+ position 123 (5866708) and 9 (3) and storing in position 127\n",
      "+ position 127 (5866711) and 2 (2) and storing in position 131\n",
      "+ position 5 (1) and 131 (5866713) and storing in position 0\n",
      "halt, returning [5866714, 12, 2, 2, 1, 1, 2, 3, 1, 3, 4, 3, 1, 5, 0, 3, 2, 13, 1, 60, 1, 19, 10, 64, 1, 23, 6, 66, 1, 6, 27, 68, 1, 13, 31, 73, 1, 13, 35, 78, 1, 39, 13, 83, 2, 43, 9, 249, 2, 6, 47, 498, 1, 51, 9, 501, 1, 55, 9, 504, 1, 59, 6, 506, 1, 9, 63, 509, 2, 67, 10, 2036, 2, 71, 13, 10180, 1, 10, 75, 10184, 2, 10, 79, 40736, 1, 83, 6, 40738, 2, 87, 10, 162952, 1, 91, 6, 162954, 1, 95, 13, 162959, 1, 99, 13, 162964, 2, 103, 9, 488892, 2, 107, 10, 1955568, 1, 5, 111, 1955569, 2, 115, 9, 5866707, 1, 5, 119, 5866708, 1, 123, 9, 5866711, 1, 127, 2, 5866713, 1, 5, 131, 0, 99, 2, 0, 14, 0]\n"
     ]
    },
    {
     "data": {
      "text/plain": [
       "5866714"
      ]
     },
     "execution_count": 36,
     "metadata": {},
     "output_type": "execute_result"
    }
   ],
   "source": [
    "# copy \n",
    "prog_input = list(my_input)\n",
    "prog_input[1] = 12\n",
    "prog_input[2] = 2\n",
    "\n",
    "output = process_program(prog_input)\n",
    "output[0]"
   ]
  },
  {
   "cell_type": "markdown",
   "metadata": {},
   "source": [
    "--- \n",
    "\n",
    "# part 2\n",
    "\n",
    "> \"With terminology out of the way, we're ready to proceed. To complete the gravity assist, you need to determine what pair of inputs produces the output 19690720.\"\n",
    "\n",
    "> The inputs should still be provided to the program by replacing the values at addresses 1 and 2, just like before. In this program, the value placed in address 1 is called the noun, and the value placed in address 2 is called the verb. Each of the two input values will be between 0 and 99, inclusive.\n",
    "\n",
    "> Once the program has halted, its output is available at address 0, also just like before. Each time you try a pair of inputs, make sure you first reset the computer's memory to the values in the program (your puzzle input) - in other words, don't reuse memory from a previous attempt.\n",
    "\n",
    "> Find the input noun and verb that cause the program to produce the output 19690720. What is 100 * noun + verb? (For example, if noun=12 and verb=2, the answer would be 1202.)"
   ]
  },
  {
   "cell_type": "code",
   "execution_count": 37,
   "metadata": {},
   "outputs": [
    {
     "name": "stdout",
     "output_type": "stream",
     "text": [
      "noun=52 verb=8\n"
     ]
    },
    {
     "data": {
      "text/plain": [
       "5208"
      ]
     },
     "execution_count": 37,
     "metadata": {},
     "output_type": "execute_result"
    }
   ],
   "source": [
    "def find_input_noun_and_verb(search_value):\n",
    "    for i in range(100):\n",
    "        for j in range(100):\n",
    "            # copy program\n",
    "            prog_input = list(my_input)\n",
    "            prog_input[1] = i\n",
    "            prog_input[2] = j\n",
    "\n",
    "            output = process_program(prog_input, verbose=False)\n",
    "            \n",
    "            if output[0] == search_value:\n",
    "                    return i, j\n",
    "        \n",
    "\n",
    "noun, verb = find_input_noun_and_verb(19690720)\n",
    "print(f'noun={noun} verb={verb}')\n",
    "\n",
    "# What is 100 * noun + verb?\n",
    "100 * noun + verb"
   ]
  },
  {
   "cell_type": "code",
   "execution_count": null,
   "metadata": {},
   "outputs": [],
   "source": []
  }
 ],
 "metadata": {
  "kernelspec": {
   "display_name": "Python 3",
   "language": "python",
   "name": "python3"
  },
  "language_info": {
   "codemirror_mode": {
    "name": "ipython",
    "version": 3
   },
   "file_extension": ".py",
   "mimetype": "text/x-python",
   "name": "python",
   "nbconvert_exporter": "python",
   "pygments_lexer": "ipython3",
   "version": "3.8.0"
  }
 },
 "nbformat": 4,
 "nbformat_minor": 2
}
