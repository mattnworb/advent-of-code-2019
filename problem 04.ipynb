{
 "cells": [
  {
   "cell_type": "markdown",
   "metadata": {},
   "source": [
    "# Day 4: Secure Container\n",
    "You arrive at the Venus fuel depot only to discover it's protected by a password. The Elves had written the password on a sticky note, but someone threw it out.\n",
    "\n",
    "However, they do remember a few key facts about the password:\n",
    "\n",
    "- It is a six-digit number.\n",
    "- The value is within the range given in your puzzle input.\n",
    "- Two adjacent digits are the same (like 22 in 122345).\n",
    "- Going from left to right, the digits never decrease; they only ever increase or stay the same (like 111123 or 135679).\n",
    "\n",
    "Other than the range rule, the following are true:\n",
    "\n",
    "- 111111 meets these criteria (double 11, never decreases).\n",
    "- 223450 does not meet these criteria (decreasing pair of digits 50).\n",
    "- 123789 does not meet these criteria (no double).\n",
    "\n",
    "How many different passwords within the range given in your puzzle input meet these criteria?\n",
    "\n",
    "Your puzzle input is 254032-789860."
   ]
  },
  {
   "cell_type": "code",
   "execution_count": 32,
   "metadata": {},
   "outputs": [],
   "source": [
    "def is_valid(password):\n",
    "    # six digit number\n",
    "    if len(str(password)) != 6:\n",
    "        return False\n",
    "    \n",
    "    p = str(password)\n",
    "    # two adjacent digits are the same\n",
    "    adjacent_same = False\n",
    "    for i in range(len(p) - 1):\n",
    "        if p[i] == p[i+1]:\n",
    "            adjacent_same = True\n",
    "            break\n",
    "    \n",
    "    if not adjacent_same:\n",
    "        return False\n",
    "\n",
    "    # Going from left to right, the digits never decrease\n",
    "    prev = int(p[0])\n",
    "    for e in p[1:]:\n",
    "        current = int(e)\n",
    "        if current < prev:\n",
    "            return False\n",
    "        prev = current\n",
    "    \n",
    "    return True"
   ]
  },
  {
   "cell_type": "code",
   "execution_count": 33,
   "metadata": {},
   "outputs": [],
   "source": [
    "assert is_valid(111111)\n",
    "assert not is_valid(223450)\n",
    "assert not is_valid(123789)"
   ]
  },
  {
   "cell_type": "markdown",
   "metadata": {},
   "source": [
    "How many different passwords within the range given in your puzzle input meet these criteria?"
   ]
  },
  {
   "cell_type": "code",
   "execution_count": 47,
   "metadata": {},
   "outputs": [
    {
     "data": {
      "text/plain": [
       "1033"
      ]
     },
     "execution_count": 47,
     "metadata": {},
     "output_type": "execute_result"
    }
   ],
   "source": [
    "my_range = range(254032, 789860)\n",
    "\n",
    "valids = set()\n",
    "\n",
    "for candidate in my_range:\n",
    "    if is_valid(candidate):\n",
    "        num_passwords += 1\n",
    "        valids.add(candidate)\n",
    "        \n",
    "len(valids)"
   ]
  },
  {
   "cell_type": "markdown",
   "metadata": {},
   "source": [
    "# Part Two\n",
    "An Elf just remembered one more important detail: the two adjacent matching digits are not part of a larger group of matching digits.\n",
    "\n",
    "Given this additional criterion, but still ignoring the range rule, the following are now true:\n",
    "\n",
    "- 112233 meets these criteria because the digits never decrease and all repeated digits are exactly two digits long.\n",
    "- 123444 no longer meets the criteria (the repeated 44 is part of a larger group of 444).\n",
    "- 111122 meets the criteria (even though 1 is repeated more than twice, it still contains a double 22).\n",
    "\n",
    "How many different passwords within the range given in your puzzle input meet all of the criteria?\n",
    "\n",
    "Your puzzle input is still 254032-789860."
   ]
  },
  {
   "cell_type": "code",
   "execution_count": 62,
   "metadata": {},
   "outputs": [],
   "source": [
    "def is_valid2(password):\n",
    "    # six digit number\n",
    "    if len(str(password)) != 6:\n",
    "        return False\n",
    "    \n",
    "    p = str(password)\n",
    "    # two adjacent digits are the same ... BUT they are not a part of a larger matching group\n",
    "    # this is the difference from is_valid()\n",
    "    # SOLUTION:\n",
    "    # split the string into runs of the same digit\n",
    "    # 112223 becomes 11, 222, 3\n",
    "    runs = []\n",
    "    current_run = p[0]\n",
    "    for i in range(1, len(p)):\n",
    "        if p[i] == current_run[0]:\n",
    "            current_run += p[i]\n",
    "        else:\n",
    "            runs.append(current_run)\n",
    "            current_run = p[i]\n",
    "    # make sure to append last run\n",
    "    runs.append(current_run)\n",
    "    \n",
    "    #print(password, runs, current_run)\n",
    "    \n",
    "    # then check that one element in runs has len 2\n",
    "    adjacent_ok = False\n",
    "    for run in runs:\n",
    "        if len(run) == 2:\n",
    "            adjacent_ok = True\n",
    "    \n",
    "    if not adjacent_ok:\n",
    "        return False\n",
    "    \n",
    "    # Going from left to right, the digits never decrease\n",
    "    prev = int(p[0])\n",
    "    for e in p[1:]:\n",
    "        current = int(e)\n",
    "        if current < prev:\n",
    "            return False\n",
    "        prev = current\n",
    "    \n",
    "    return True"
   ]
  },
  {
   "cell_type": "code",
   "execution_count": 63,
   "metadata": {},
   "outputs": [],
   "source": [
    "assert is_valid2(112233)\n",
    "assert not is_valid2(123444)\n",
    "assert is_valid2(111122)\n",
    "assert not is_valid2(255567)"
   ]
  },
  {
   "cell_type": "code",
   "execution_count": 64,
   "metadata": {},
   "outputs": [
    {
     "data": {
      "text/plain": [
       "670"
      ]
     },
     "execution_count": 64,
     "metadata": {},
     "output_type": "execute_result"
    }
   ],
   "source": [
    "my_range = range(254032, 789860)\n",
    "\n",
    "valids = set()\n",
    "\n",
    "for candidate in my_range:\n",
    "    if is_valid2(candidate):\n",
    "        num_passwords += 1\n",
    "        valids.add(candidate)\n",
    "        \n",
    "len(valids)"
   ]
  },
  {
   "cell_type": "code",
   "execution_count": null,
   "metadata": {},
   "outputs": [],
   "source": []
  }
 ],
 "metadata": {
  "kernelspec": {
   "display_name": "Python 3",
   "language": "python",
   "name": "python3"
  },
  "language_info": {
   "codemirror_mode": {
    "name": "ipython",
    "version": 3
   },
   "file_extension": ".py",
   "mimetype": "text/x-python",
   "name": "python",
   "nbconvert_exporter": "python",
   "pygments_lexer": "ipython3",
   "version": "3.8.0"
  }
 },
 "nbformat": 4,
 "nbformat_minor": 2
}
